{
 "cells": [
  {
   "cell_type": "code",
   "execution_count": 1,
   "metadata": {},
   "outputs": [],
   "source": [
    "import os \n",
    "import sys\n",
    "from pathlib import Path\n",
    "\n",
    "# choose index such that file.parents[index] gives /project/\n",
    "package_root_directory = Path(os.getcwd()).resolve().parents[0]\n",
    "sys.path.append(str(package_root_directory))"
   ]
  },
  {
   "cell_type": "code",
   "execution_count": 2,
   "metadata": {},
   "outputs": [],
   "source": [
    "from linebot import LineBotApi\n",
    "from linebot.models import TextSendMessage, StickerSendMessage\n",
    "from linebot.exceptions import LineBotApiError"
   ]
  },
  {
   "cell_type": "code",
   "execution_count": 3,
   "metadata": {},
   "outputs": [],
   "source": [
    "from env import LINE_TOKEN, LINE_USERS"
   ]
  },
  {
   "cell_type": "code",
   "execution_count": 4,
   "metadata": {},
   "outputs": [],
   "source": [
    "line_bot_api = LineBotApi(LINE_TOKEN)"
   ]
  },
  {
   "cell_type": "code",
   "execution_count": 5,
   "metadata": {},
   "outputs": [],
   "source": [
    "user_id = LINE_USERS[0]"
   ]
  },
  {
   "cell_type": "code",
   "execution_count": 6,
   "metadata": {},
   "outputs": [],
   "source": [
    "try:\n",
    "    line_bot_api.push_message(user_id, TextSendMessage(text='Hello World!'))\n",
    "    line_bot_api.push_message(user_id, StickerSendMessage(sticker_id='1988', package_id='446'))\n",
    "except LineBotApiError as e:\n",
    "    print(\"error\")"
   ]
  },
  {
   "cell_type": "code",
   "execution_count": 7,
   "metadata": {},
   "outputs": [],
   "source": [
    "s = \"\"\"\n",
    "RSI list\n",
    "SP500 = xxx\n",
    "Nasdaq = yyy\n",
    "\"\"\""
   ]
  },
  {
   "cell_type": "code",
   "execution_count": 8,
   "metadata": {},
   "outputs": [],
   "source": [
    "emojis = [\n",
    "    {\n",
    "        \"index\": 0,\n",
    "        \"productId\": \"5ac1bfd5040ab15980c9b435\",\n",
    "        \"emojiId\": \"001\"\n",
    "    },\n",
    "]"
   ]
  },
  {
   "cell_type": "code",
   "execution_count": 9,
   "metadata": {},
   "outputs": [],
   "source": [
    "try:\n",
    "    line_bot_api.push_message(user_id, TextSendMessage(text=s))\n",
    "    line_bot_api.push_message(user_id, TextSendMessage(text='$ LINE emoji', emojis=emojis))\n",
    "except LineBotApiError as e:\n",
    "    print(\"error\")"
   ]
  }
 ],
 "metadata": {
  "kernelspec": {
   "display_name": "stockalert-3J_RXek6-py3.9",
   "language": "python",
   "name": "python3"
  },
  "language_info": {
   "codemirror_mode": {
    "name": "ipython",
    "version": 3
   },
   "file_extension": ".py",
   "mimetype": "text/x-python",
   "name": "python",
   "nbconvert_exporter": "python",
   "pygments_lexer": "ipython3",
   "version": "3.9.11"
  },
  "orig_nbformat": 4
 },
 "nbformat": 4,
 "nbformat_minor": 2
}
