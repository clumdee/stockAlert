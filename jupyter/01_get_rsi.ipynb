{
 "cells": [
  {
   "cell_type": "code",
   "execution_count": 1,
   "metadata": {},
   "outputs": [],
   "source": [
    "import yfinance as yf"
   ]
  },
  {
   "cell_type": "code",
   "execution_count": 2,
   "metadata": {},
   "outputs": [],
   "source": [
    "ticker = {\n",
    "    \"SP500\": \"^GSPC\",\n",
    "    \"Nasdaq\": \"^IXIC\",\n",
    "    \"EURO600\": \"EXSA.DE\",\n",
    "    \"Japan\": \"1306.T\",\n",
    "    \"CSI300\": \"3188.HK\",\n",
    "    \"HangSeng\": \"^HSI\",\n",
    "    \"HS-TECH\": \"HSTECH.HK\",\n",
    "    \"Vietnam\": \"VNM\",\n",
    "    \"Thailand\": \"^SET.BK\",\n",
    "    \"THB/USD\": \"THB=X\",\n",
    "    }\n",
    "\n",
    "# init object\n",
    "stck = yf.Ticker(ticker[\"Nasdaq\"])\n",
    "\n",
    "# get historical close price\n",
    "s = stck.history(period=\"120d\", interval=\"1d\")[\"Close\"]"
   ]
  },
  {
   "cell_type": "code",
   "execution_count": 3,
   "metadata": {},
   "outputs": [],
   "source": [
    "# calculate change, gain, loss\n",
    "c = (s - s.shift(1))\n",
    "g = c.clip(lower=0)\n",
    "l = c.clip(upper=0).abs()\n",
    "\n",
    "# smoothen gain and loss\n",
    "w = 14\n",
    "g_smma = g.ewm(alpha=1.0/w, min_periods=0, adjust=True, ignore_na=False).mean()\n",
    "l_smma = l.ewm(alpha=1.0/w, min_periods=0, adjust=True, ignore_na=False).mean()\n",
    "\n",
    "# calculate RSI\n",
    "rs = g_smma / l_smma\n",
    "rsi = 100 - 100 / (1 + rs)"
   ]
  },
  {
   "cell_type": "code",
   "execution_count": 4,
   "metadata": {},
   "outputs": [
    {
     "data": {
      "text/plain": [
       "Date\n",
       "2023-03-06 00:00:00-05:00    11675.740234\n",
       "2023-03-07 00:00:00-05:00    11530.330078\n",
       "2023-03-08 00:00:00-05:00    11576.000000\n",
       "2023-03-09 00:00:00-05:00    11338.349609\n",
       "2023-03-10 00:00:00-05:00    11138.889648\n",
       "Name: Close, dtype: float64"
      ]
     },
     "execution_count": 4,
     "metadata": {},
     "output_type": "execute_result"
    }
   ],
   "source": [
    "s.tail()"
   ]
  },
  {
   "cell_type": "code",
   "execution_count": 5,
   "metadata": {},
   "outputs": [
    {
     "data": {
      "text/plain": [
       "Date\n",
       "2023-03-06 00:00:00-05:00    53.724618\n",
       "2023-03-07 00:00:00-05:00    49.291153\n",
       "2023-03-08 00:00:00-05:00    50.668102\n",
       "2023-03-09 00:00:00-05:00    43.976263\n",
       "2023-03-10 00:00:00-05:00    39.286450\n",
       "Name: Close, dtype: float64"
      ]
     },
     "execution_count": 5,
     "metadata": {},
     "output_type": "execute_result"
    }
   ],
   "source": [
    "rsi.tail()"
   ]
  },
  {
   "cell_type": "code",
   "execution_count": null,
   "metadata": {},
   "outputs": [],
   "source": []
  }
 ],
 "metadata": {
  "kernelspec": {
   "display_name": "stockalert-3J_RXek6-py3.9",
   "language": "python",
   "name": "python3"
  },
  "language_info": {
   "codemirror_mode": {
    "name": "ipython",
    "version": 3
   },
   "file_extension": ".py",
   "mimetype": "text/x-python",
   "name": "python",
   "nbconvert_exporter": "python",
   "pygments_lexer": "ipython3",
   "version": "3.9.11"
  },
  "orig_nbformat": 4
 },
 "nbformat": 4,
 "nbformat_minor": 2
}
