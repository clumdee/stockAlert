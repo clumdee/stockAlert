{
 "cells": [
  {
   "cell_type": "code",
   "execution_count": 132,
   "metadata": {},
   "outputs": [],
   "source": [
    "import numpy as np\n",
    "import pandas as pd\n",
    "import yfinance as yf"
   ]
  },
  {
   "cell_type": "code",
   "execution_count": 219,
   "metadata": {},
   "outputs": [],
   "source": [
    "ticker = {\n",
    "    \"SP500\": \"SPY\",\n",
    "    \"Nasdaq\": \"^IXIC\",\n",
    "    \"EURO600\": \"EXSA.DE\",\n",
    "    \"Japan\": \"1306.T\",\n",
    "    \"CSI300\": \"3188.HK\",\n",
    "    \"HangSeng\": \"^HSI\",\n",
    "    \"HS-TECH\": \"HSTECH.HK\",\n",
    "    \"Vietnam\": \"VNM\",\n",
    "    \"Thailand\": \"^SET.BK\",\n",
    "    }\n",
    "\n",
    "# init object\n",
    "stck = yf.Ticker(ticker[\"SP500\"])\n",
    "\n",
    "# get historical close price\n",
    "s = stck.history(period=\"90d\", interval=\"1d\")[\"Close\"]"
   ]
  },
  {
   "cell_type": "code",
   "execution_count": 220,
   "metadata": {},
   "outputs": [],
   "source": [
    "c = (s - s.shift(1)) / s.shift(1)\n",
    "g = pd.Series(np.where(c > 0, c.abs(), 0), index=c.index)\n",
    "l = pd.Series(np.where(c < 0, c.abs(), 0), index=c.index)\n",
    "\n",
    "w = 14\n",
    "g_smma = g.ewm(alpha=1.0/w, min_periods=0, adjust=True, ignore_na=False).mean()\n",
    "l_smma = l.ewm(alpha=1.0/w, min_periods=0, adjust=True, ignore_na=False).mean()\n",
    "rs = g_smma / l_smma\n",
    "rsi = 100 - 100 / (1 + rs)"
   ]
  },
  {
   "cell_type": "code",
   "execution_count": 223,
   "metadata": {},
   "outputs": [
    {
     "data": {
      "text/plain": [
       "Date\n",
       "2023-03-03 00:00:00-05:00    404.190002\n",
       "2023-03-06 00:00:00-05:00    404.470001\n",
       "2023-03-07 00:00:00-05:00    398.269989\n",
       "2023-03-08 00:00:00-05:00    398.920013\n",
       "2023-03-09 00:00:00-05:00    391.559998\n",
       "Name: Close, dtype: float64"
      ]
     },
     "execution_count": 223,
     "metadata": {},
     "output_type": "execute_result"
    }
   ],
   "source": [
    "s.tail()"
   ]
  },
  {
   "cell_type": "code",
   "execution_count": 224,
   "metadata": {},
   "outputs": [
    {
     "data": {
      "text/plain": [
       "Date\n",
       "2023-03-03 00:00:00-05:00    53.235220\n",
       "2023-03-06 00:00:00-05:00    53.540399\n",
       "2023-03-07 00:00:00-05:00    46.334885\n",
       "2023-03-08 00:00:00-05:00    47.150443\n",
       "2023-03-09 00:00:00-05:00    39.789160\n",
       "dtype: float64"
      ]
     },
     "execution_count": 224,
     "metadata": {},
     "output_type": "execute_result"
    }
   ],
   "source": [
    "rsi.tail()"
   ]
  },
  {
   "cell_type": "code",
   "execution_count": null,
   "metadata": {},
   "outputs": [],
   "source": []
  }
 ],
 "metadata": {
  "kernelspec": {
   "display_name": "stockalert-3J_RXek6-py3.9",
   "language": "python",
   "name": "python3"
  },
  "language_info": {
   "codemirror_mode": {
    "name": "ipython",
    "version": 3
   },
   "file_extension": ".py",
   "mimetype": "text/x-python",
   "name": "python",
   "nbconvert_exporter": "python",
   "pygments_lexer": "ipython3",
   "version": "3.9.11"
  },
  "orig_nbformat": 4
 },
 "nbformat": 4,
 "nbformat_minor": 2
}
